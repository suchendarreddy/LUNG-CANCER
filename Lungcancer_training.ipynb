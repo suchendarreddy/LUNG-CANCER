{
 "cells": [
  {
   "cell_type": "code",
   "execution_count": 1,
   "metadata": {},
   "outputs": [],
   "source": [
    "from tensorflow.keras.models import Sequential\n",
    "from tensorflow.keras.layers import Dense\n",
    "from tensorflow.keras.layers import Convolution2D\n",
    "from tensorflow.keras.layers import MaxPooling2D\n",
    "from tensorflow.keras.layers import Flatten\n"
   ]
  },
  {
   "cell_type": "code",
   "execution_count": 2,
   "metadata": {},
   "outputs": [],
   "source": [
    "from keras.preprocessing.image import ImageDataGenerator\n",
    "train_datagen = ImageDataGenerator(rescale = 1./255,shear_range = 0.2,zoom_range = 0.2,horizontal_flip = True)\n",
    "test_datagen = ImageDataGenerator(rescale = 1./255)"
   ]
  },
  {
   "cell_type": "code",
   "execution_count": 7,
   "metadata": {},
   "outputs": [
    {
     "name": "stdout",
     "output_type": "stream",
     "text": [
      "Found 102 images belonging to 2 classes.\n",
      "Found 40 images belonging to 2 classes.\n"
     ]
    }
   ],
   "source": [
    "# applying Image data generator functionality to train and test set\n",
    "x_train = train_datagen.flow_from_directory(\n",
    "    r'C:/Users/Shravan/Downloads/Lung-Cancer-Disease-Prediction-main/Lung-Cancer-Disease-Prediction-main/Lungcancer/trainset'\n",
    "    ,target_size = (64,64),batch_size = 32 ,\n",
    "    class_mode = 'binary',color_mode=\"grayscale\")\n",
    "x_test = test_datagen.flow_from_directory(\n",
    "    r'C:/Users/Shravan/Downloads/Lung-Cancer-Disease-Prediction-main/Lung-Cancer-Disease-Prediction-main/Lungcancer/testset',\n",
    "    target_size = (64,64),batch_size = 32 , \n",
    "    class_mode = 'binary',color_mode=\"grayscale\")\n"
   ]
  },
  {
   "cell_type": "code",
   "execution_count": 8,
   "metadata": {},
   "outputs": [
    {
     "name": "stdout",
     "output_type": "stream",
     "text": [
      "{'Cancer': 0, 'NonCancer': 1}\n"
     ]
    }
   ],
   "source": [
    "print(x_train.class_indices)"
   ]
  },
  {
   "cell_type": "code",
   "execution_count": 9,
   "metadata": {},
   "outputs": [],
   "source": [
    "model = Sequential()"
   ]
  },
  {
   "cell_type": "code",
   "execution_count": 10,
   "metadata": {},
   "outputs": [],
   "source": [
    "model.add(Convolution2D(32,(3,3), input_shape = (64,64,1),activation = \"relu\"))"
   ]
  },
  {
   "cell_type": "code",
   "execution_count": 11,
   "metadata": {},
   "outputs": [],
   "source": [
    "model.add(MaxPooling2D(pool_size = (2,2)))"
   ]
  },
  {
   "cell_type": "code",
   "execution_count": 12,
   "metadata": {},
   "outputs": [],
   "source": [
    "model.add(Flatten()) # input layer"
   ]
  },
  {
   "cell_type": "code",
   "execution_count": 13,
   "metadata": {},
   "outputs": [],
   "source": [
    "model.add(Dense(units = 128,kernel_initializer = \"random_uniform\",activation = \"relu\")) #hidden layer"
   ]
  },
  {
   "cell_type": "code",
   "execution_count": 14,
   "metadata": {},
   "outputs": [],
   "source": [
    "model.add(Dense(units = 1,kernel_initializer = \"random_uniform\",activation = \"sigmoid\")) #output layer"
   ]
  },
  {
   "cell_type": "code",
   "execution_count": 15,
   "metadata": {},
   "outputs": [],
   "source": [
    "model.compile(loss = \"binary_crossentropy\",optimizer = \"adam\",metrics = [\"accuracy\"])"
   ]
  },
  {
   "cell_type": "code",
   "execution_count": 16,
   "metadata": {},
   "outputs": [
    {
     "name": "stdout",
     "output_type": "stream",
     "text": [
      "WARNING:tensorflow:From <ipython-input-16-7346e54f2ce7>:1: Model.fit_generator (from tensorflow.python.keras.engine.training) is deprecated and will be removed in a future version.\n",
      "Instructions for updating:\n",
      "Please use Model.fit, which supports generators.\n",
      "Epoch 1/100\n",
      "4/4 [==============================] - 2s 461ms/step - loss: 0.7258 - accuracy: 0.5294 - val_loss: 0.7064 - val_accuracy: 0.5000\n",
      "Epoch 2/100\n",
      "4/4 [==============================] - 1s 227ms/step - loss: 0.6803 - accuracy: 0.4804 - val_loss: 0.6299 - val_accuracy: 0.6250\n",
      "Epoch 3/100\n",
      "4/4 [==============================] - 1s 253ms/step - loss: 0.6315 - accuracy: 0.6961 - val_loss: 0.5963 - val_accuracy: 0.7000\n",
      "Epoch 4/100\n",
      "4/4 [==============================] - 1s 274ms/step - loss: 0.6274 - accuracy: 0.6275 - val_loss: 0.5558 - val_accuracy: 0.6750\n",
      "Epoch 5/100\n",
      "4/4 [==============================] - 1s 230ms/step - loss: 0.5891 - accuracy: 0.6765 - val_loss: 0.5196 - val_accuracy: 0.7250\n",
      "Epoch 6/100\n",
      "4/4 [==============================] - 1s 217ms/step - loss: 0.5720 - accuracy: 0.6863 - val_loss: 0.4885 - val_accuracy: 0.7500\n",
      "Epoch 7/100\n",
      "4/4 [==============================] - 1s 243ms/step - loss: 0.5501 - accuracy: 0.6667 - val_loss: 0.4750 - val_accuracy: 0.7250\n",
      "Epoch 8/100\n",
      "4/4 [==============================] - 1s 252ms/step - loss: 0.5127 - accuracy: 0.7941 - val_loss: 0.6011 - val_accuracy: 0.7000\n",
      "Epoch 9/100\n",
      "4/4 [==============================] - 1s 285ms/step - loss: 0.5166 - accuracy: 0.7843 - val_loss: 0.4373 - val_accuracy: 0.8250\n",
      "Epoch 10/100\n",
      "4/4 [==============================] - 1s 252ms/step - loss: 0.5768 - accuracy: 0.7059 - val_loss: 0.3905 - val_accuracy: 0.8500\n",
      "Epoch 11/100\n",
      "4/4 [==============================] - 1s 265ms/step - loss: 0.4528 - accuracy: 0.7941 - val_loss: 0.5296 - val_accuracy: 0.8000\n",
      "Epoch 12/100\n",
      "4/4 [==============================] - 1s 212ms/step - loss: 0.4910 - accuracy: 0.8039 - val_loss: 0.5032 - val_accuracy: 0.8250\n",
      "Epoch 13/100\n",
      "4/4 [==============================] - 1s 220ms/step - loss: 0.4822 - accuracy: 0.7745 - val_loss: 0.3821 - val_accuracy: 0.8500\n",
      "Epoch 14/100\n",
      "4/4 [==============================] - 1s 229ms/step - loss: 0.4283 - accuracy: 0.7941 - val_loss: 0.3386 - val_accuracy: 0.8750\n",
      "Epoch 15/100\n",
      "4/4 [==============================] - 1s 226ms/step - loss: 0.4517 - accuracy: 0.7843 - val_loss: 0.5772 - val_accuracy: 0.6750\n",
      "Epoch 16/100\n",
      "4/4 [==============================] - 1s 274ms/step - loss: 0.4168 - accuracy: 0.8235 - val_loss: 0.3347 - val_accuracy: 0.8500\n",
      "Epoch 17/100\n",
      "4/4 [==============================] - 1s 284ms/step - loss: 0.3853 - accuracy: 0.8627 - val_loss: 0.3127 - val_accuracy: 0.8500\n",
      "Epoch 18/100\n",
      "4/4 [==============================] - 1s 235ms/step - loss: 0.3873 - accuracy: 0.8529 - val_loss: 0.4071 - val_accuracy: 0.8000\n",
      "Epoch 19/100\n",
      "4/4 [==============================] - 1s 226ms/step - loss: 0.4021 - accuracy: 0.8235 - val_loss: 0.3246 - val_accuracy: 0.8750\n",
      "Epoch 20/100\n",
      "4/4 [==============================] - 1s 258ms/step - loss: 0.3485 - accuracy: 0.8725 - val_loss: 0.2857 - val_accuracy: 0.9250\n",
      "Epoch 21/100\n",
      "4/4 [==============================] - 1s 234ms/step - loss: 0.3279 - accuracy: 0.8627 - val_loss: 0.2943 - val_accuracy: 0.9250\n",
      "Epoch 22/100\n",
      "4/4 [==============================] - 1s 215ms/step - loss: 0.3048 - accuracy: 0.9020 - val_loss: 0.3332 - val_accuracy: 0.8750\n",
      "Epoch 23/100\n",
      "4/4 [==============================] - 1s 219ms/step - loss: 0.3118 - accuracy: 0.8922 - val_loss: 0.4003 - val_accuracy: 0.8250\n",
      "Epoch 24/100\n",
      "4/4 [==============================] - 1s 217ms/step - loss: 0.2763 - accuracy: 0.9118 - val_loss: 0.2193 - val_accuracy: 0.9250\n",
      "Epoch 25/100\n",
      "4/4 [==============================] - 1s 237ms/step - loss: 0.3020 - accuracy: 0.8725 - val_loss: 0.2688 - val_accuracy: 0.9500\n",
      "Epoch 26/100\n",
      "4/4 [==============================] - 1s 221ms/step - loss: 0.3487 - accuracy: 0.8627 - val_loss: 0.2696 - val_accuracy: 0.9250\n",
      "Epoch 27/100\n",
      "4/4 [==============================] - 1s 224ms/step - loss: 0.3555 - accuracy: 0.8431 - val_loss: 0.2035 - val_accuracy: 0.9250\n",
      "Epoch 28/100\n",
      "4/4 [==============================] - 1s 227ms/step - loss: 0.3637 - accuracy: 0.8235 - val_loss: 0.4419 - val_accuracy: 0.8000\n",
      "Epoch 29/100\n",
      "4/4 [==============================] - 1s 279ms/step - loss: 0.3438 - accuracy: 0.8431 - val_loss: 0.2032 - val_accuracy: 0.8750\n",
      "Epoch 30/100\n",
      "4/4 [==============================] - 1s 243ms/step - loss: 0.2860 - accuracy: 0.8725 - val_loss: 0.3404 - val_accuracy: 0.9250\n",
      "Epoch 31/100\n",
      "4/4 [==============================] - 1s 279ms/step - loss: 0.3817 - accuracy: 0.8235 - val_loss: 0.2767 - val_accuracy: 0.9250\n",
      "Epoch 32/100\n",
      "4/4 [==============================] - 1s 221ms/step - loss: 0.2732 - accuracy: 0.9020 - val_loss: 0.1766 - val_accuracy: 0.9250\n",
      "Epoch 33/100\n",
      "4/4 [==============================] - 1s 265ms/step - loss: 0.2813 - accuracy: 0.8824 - val_loss: 0.3205 - val_accuracy: 0.8750\n",
      "Epoch 34/100\n",
      "4/4 [==============================] - 1s 267ms/step - loss: 0.3396 - accuracy: 0.8431 - val_loss: 0.2534 - val_accuracy: 0.9500\n",
      "Epoch 35/100\n",
      "4/4 [==============================] - 1s 227ms/step - loss: 0.2417 - accuracy: 0.9020 - val_loss: 0.1548 - val_accuracy: 0.9250\n",
      "Epoch 36/100\n",
      "4/4 [==============================] - 1s 226ms/step - loss: 0.2385 - accuracy: 0.9020 - val_loss: 0.2278 - val_accuracy: 0.9250\n",
      "Epoch 37/100\n",
      "4/4 [==============================] - 1s 230ms/step - loss: 0.2232 - accuracy: 0.9314 - val_loss: 0.2757 - val_accuracy: 0.9000\n",
      "Epoch 38/100\n",
      "4/4 [==============================] - 1s 210ms/step - loss: 0.1728 - accuracy: 0.9706 - val_loss: 0.1355 - val_accuracy: 0.9750\n",
      "Epoch 39/100\n",
      "4/4 [==============================] - 1s 227ms/step - loss: 0.1643 - accuracy: 0.9706 - val_loss: 0.1496 - val_accuracy: 0.9750\n",
      "Epoch 40/100\n",
      "4/4 [==============================] - 1s 289ms/step - loss: 0.1656 - accuracy: 0.9510 - val_loss: 0.2185 - val_accuracy: 0.9500\n",
      "Epoch 41/100\n",
      "4/4 [==============================] - 1s 210ms/step - loss: 0.1691 - accuracy: 0.9608 - val_loss: 0.1113 - val_accuracy: 0.9750\n",
      "Epoch 42/100\n",
      "4/4 [==============================] - 1s 225ms/step - loss: 0.1789 - accuracy: 0.9314 - val_loss: 0.1082 - val_accuracy: 0.9750\n",
      "Epoch 43/100\n",
      "4/4 [==============================] - 1s 282ms/step - loss: 0.1372 - accuracy: 0.9804 - val_loss: 0.1110 - val_accuracy: 0.9750\n",
      "Epoch 44/100\n",
      "4/4 [==============================] - 1s 231ms/step - loss: 0.1738 - accuracy: 0.9118 - val_loss: 0.1256 - val_accuracy: 0.9750\n",
      "Epoch 45/100\n",
      "4/4 [==============================] - 1s 250ms/step - loss: 0.0945 - accuracy: 1.0000 - val_loss: 0.0929 - val_accuracy: 0.9750\n",
      "Epoch 46/100\n",
      "4/4 [==============================] - 1s 307ms/step - loss: 0.1231 - accuracy: 0.9902 - val_loss: 0.0900 - val_accuracy: 0.9750\n",
      "Epoch 47/100\n",
      "4/4 [==============================] - 1s 212ms/step - loss: 0.1402 - accuracy: 0.9608 - val_loss: 0.1467 - val_accuracy: 0.9750\n",
      "Epoch 48/100\n",
      "4/4 [==============================] - 1s 225ms/step - loss: 0.1595 - accuracy: 0.9412 - val_loss: 0.0749 - val_accuracy: 0.9750\n",
      "Epoch 49/100\n",
      "4/4 [==============================] - 1s 210ms/step - loss: 0.1357 - accuracy: 0.9510 - val_loss: 0.1768 - val_accuracy: 0.9500\n",
      "Epoch 50/100\n",
      "4/4 [==============================] - 1s 227ms/step - loss: 0.1404 - accuracy: 0.9608 - val_loss: 0.0840 - val_accuracy: 0.9750\n",
      "Epoch 51/100\n",
      "4/4 [==============================] - 1s 288ms/step - loss: 0.1238 - accuracy: 0.9608 - val_loss: 0.1120 - val_accuracy: 0.9750\n",
      "Epoch 52/100\n",
      "4/4 [==============================] - 1s 233ms/step - loss: 0.1251 - accuracy: 0.9510 - val_loss: 0.1146 - val_accuracy: 0.9750\n",
      "Epoch 53/100\n",
      "4/4 [==============================] - 1s 230ms/step - loss: 0.0891 - accuracy: 0.9706 - val_loss: 0.0562 - val_accuracy: 1.0000\n",
      "Epoch 54/100\n",
      "4/4 [==============================] - 1s 227ms/step - loss: 0.1126 - accuracy: 0.9804 - val_loss: 0.0984 - val_accuracy: 0.9750\n",
      "Epoch 55/100\n",
      "4/4 [==============================] - 1s 235ms/step - loss: 0.1432 - accuracy: 0.9314 - val_loss: 0.0490 - val_accuracy: 1.0000\n",
      "Epoch 56/100\n",
      "4/4 [==============================] - 1s 295ms/step - loss: 0.1991 - accuracy: 0.9412 - val_loss: 0.0664 - val_accuracy: 0.9750\n"
     ]
    },
    {
     "name": "stdout",
     "output_type": "stream",
     "text": [
      "Epoch 57/100\n",
      "4/4 [==============================] - 1s 206ms/step - loss: 0.1396 - accuracy: 0.9510 - val_loss: 0.1099 - val_accuracy: 0.9750\n",
      "Epoch 58/100\n",
      "4/4 [==============================] - 1s 313ms/step - loss: 0.0732 - accuracy: 0.9902 - val_loss: 0.0530 - val_accuracy: 1.0000\n",
      "Epoch 59/100\n",
      "4/4 [==============================] - 1s 242ms/step - loss: 0.0874 - accuracy: 0.9706 - val_loss: 0.1289 - val_accuracy: 0.9750\n",
      "Epoch 60/100\n",
      "4/4 [==============================] - 1s 242ms/step - loss: 0.1220 - accuracy: 0.9510 - val_loss: 0.0504 - val_accuracy: 0.9750\n",
      "Epoch 61/100\n",
      "4/4 [==============================] - 1s 223ms/step - loss: 0.1411 - accuracy: 0.9412 - val_loss: 0.0473 - val_accuracy: 0.9750\n",
      "Epoch 62/100\n",
      "4/4 [==============================] - 1s 227ms/step - loss: 0.0771 - accuracy: 0.9902 - val_loss: 0.1988 - val_accuracy: 0.9500\n",
      "Epoch 63/100\n",
      "4/4 [==============================] - 1s 211ms/step - loss: 0.1012 - accuracy: 0.9706 - val_loss: 0.0876 - val_accuracy: 0.9750\n",
      "Epoch 64/100\n",
      "4/4 [==============================] - 1s 281ms/step - loss: 0.0855 - accuracy: 0.9706 - val_loss: 0.1190 - val_accuracy: 0.9750\n",
      "Epoch 65/100\n",
      "4/4 [==============================] - 1s 223ms/step - loss: 0.0962 - accuracy: 0.9804 - val_loss: 0.0810 - val_accuracy: 0.9750\n",
      "Epoch 66/100\n",
      "4/4 [==============================] - 1s 300ms/step - loss: 0.0638 - accuracy: 0.9902 - val_loss: 0.0848 - val_accuracy: 0.9750\n",
      "Epoch 67/100\n",
      "4/4 [==============================] - 1s 223ms/step - loss: 0.0583 - accuracy: 1.0000 - val_loss: 0.0782 - val_accuracy: 0.9750\n",
      "Epoch 68/100\n",
      "4/4 [==============================] - 1s 230ms/step - loss: 0.0978 - accuracy: 0.9608 - val_loss: 0.0556 - val_accuracy: 0.9750\n",
      "Epoch 69/100\n",
      "4/4 [==============================] - 1s 273ms/step - loss: 0.0691 - accuracy: 0.9804 - val_loss: 0.1418 - val_accuracy: 0.9750\n",
      "Epoch 70/100\n",
      "4/4 [==============================] - 1s 241ms/step - loss: 0.0652 - accuracy: 0.9804 - val_loss: 0.0547 - val_accuracy: 0.9750\n",
      "Epoch 71/100\n",
      "4/4 [==============================] - 1s 252ms/step - loss: 0.0686 - accuracy: 0.9804 - val_loss: 0.0759 - val_accuracy: 0.9750\n",
      "Epoch 72/100\n",
      "4/4 [==============================] - 1s 232ms/step - loss: 0.0547 - accuracy: 0.9804 - val_loss: 0.0927 - val_accuracy: 0.9750\n",
      "Epoch 73/100\n",
      "4/4 [==============================] - 1s 228ms/step - loss: 0.0606 - accuracy: 0.9902 - val_loss: 0.1414 - val_accuracy: 0.9750\n",
      "Epoch 74/100\n",
      "4/4 [==============================] - 1s 297ms/step - loss: 0.0437 - accuracy: 1.0000 - val_loss: 0.0610 - val_accuracy: 0.9750\n",
      "Epoch 75/100\n",
      "4/4 [==============================] - 1s 207ms/step - loss: 0.0623 - accuracy: 0.9804 - val_loss: 0.0838 - val_accuracy: 0.9750\n",
      "Epoch 76/100\n",
      "4/4 [==============================] - 1s 225ms/step - loss: 0.0602 - accuracy: 0.9804 - val_loss: 0.0545 - val_accuracy: 0.9750\n",
      "Epoch 77/100\n",
      "4/4 [==============================] - 1s 224ms/step - loss: 0.0647 - accuracy: 0.9804 - val_loss: 0.0472 - val_accuracy: 0.9750\n",
      "Epoch 78/100\n",
      "4/4 [==============================] - 1s 234ms/step - loss: 0.0384 - accuracy: 1.0000 - val_loss: 0.0735 - val_accuracy: 0.9750\n",
      "Epoch 79/100\n",
      "4/4 [==============================] - 1s 212ms/step - loss: 0.0610 - accuracy: 0.9804 - val_loss: 0.0507 - val_accuracy: 0.9750\n",
      "Epoch 80/100\n",
      "4/4 [==============================] - 1s 278ms/step - loss: 0.0356 - accuracy: 0.9902 - val_loss: 0.0334 - val_accuracy: 0.9750\n",
      "Epoch 81/100\n",
      "4/4 [==============================] - 1s 285ms/step - loss: 0.0794 - accuracy: 0.9706 - val_loss: 0.0748 - val_accuracy: 0.9750\n",
      "Epoch 82/100\n",
      "4/4 [==============================] - 1s 222ms/step - loss: 0.0562 - accuracy: 0.9804 - val_loss: 0.0280 - val_accuracy: 1.0000\n",
      "Epoch 83/100\n",
      "4/4 [==============================] - 1s 244ms/step - loss: 0.0619 - accuracy: 0.9902 - val_loss: 0.0271 - val_accuracy: 1.0000\n",
      "Epoch 84/100\n",
      "4/4 [==============================] - 1s 251ms/step - loss: 0.0400 - accuracy: 1.0000 - val_loss: 0.2124 - val_accuracy: 0.9500\n",
      "Epoch 85/100\n",
      "4/4 [==============================] - 1s 288ms/step - loss: 0.1408 - accuracy: 0.9412 - val_loss: 0.0476 - val_accuracy: 0.9750\n",
      "Epoch 86/100\n",
      "4/4 [==============================] - 1s 214ms/step - loss: 0.0783 - accuracy: 0.9804 - val_loss: 0.0508 - val_accuracy: 0.9750\n",
      "Epoch 87/100\n",
      "4/4 [==============================] - 1s 281ms/step - loss: 0.0655 - accuracy: 0.9804 - val_loss: 0.1370 - val_accuracy: 0.9750\n",
      "Epoch 88/100\n",
      "4/4 [==============================] - 1s 228ms/step - loss: 0.0736 - accuracy: 0.9706 - val_loss: 0.0214 - val_accuracy: 1.0000\n",
      "Epoch 89/100\n",
      "4/4 [==============================] - 1s 265ms/step - loss: 0.0568 - accuracy: 0.9902 - val_loss: 0.0280 - val_accuracy: 1.0000\n",
      "Epoch 90/100\n",
      "4/4 [==============================] - 1s 277ms/step - loss: 0.0199 - accuracy: 1.0000 - val_loss: 0.0821 - val_accuracy: 0.9750\n",
      "Epoch 91/100\n",
      "4/4 [==============================] - 1s 282ms/step - loss: 0.0360 - accuracy: 1.0000 - val_loss: 0.0351 - val_accuracy: 0.9750\n",
      "Epoch 92/100\n",
      "4/4 [==============================] - 1s 219ms/step - loss: 0.0490 - accuracy: 0.9902 - val_loss: 0.0506 - val_accuracy: 0.9750\n",
      "Epoch 93/100\n",
      "4/4 [==============================] - 1s 219ms/step - loss: 0.0711 - accuracy: 0.9706 - val_loss: 0.0324 - val_accuracy: 1.0000\n",
      "Epoch 94/100\n",
      "4/4 [==============================] - 1s 222ms/step - loss: 0.0354 - accuracy: 1.0000 - val_loss: 0.0578 - val_accuracy: 0.9750\n",
      "Epoch 95/100\n",
      "4/4 [==============================] - 1s 211ms/step - loss: 0.0708 - accuracy: 0.9902 - val_loss: 0.0285 - val_accuracy: 1.0000\n",
      "Epoch 96/100\n",
      "4/4 [==============================] - 1s 302ms/step - loss: 0.1427 - accuracy: 0.9510 - val_loss: 0.0144 - val_accuracy: 1.0000\n",
      "Epoch 97/100\n",
      "4/4 [==============================] - 1s 236ms/step - loss: 0.0540 - accuracy: 0.9804 - val_loss: 0.0598 - val_accuracy: 0.9750\n",
      "Epoch 98/100\n",
      "4/4 [==============================] - 1s 234ms/step - loss: 0.0435 - accuracy: 0.9902 - val_loss: 0.0166 - val_accuracy: 1.0000\n",
      "Epoch 99/100\n",
      "4/4 [==============================] - 1s 234ms/step - loss: 0.0519 - accuracy: 0.9804 - val_loss: 0.0351 - val_accuracy: 0.9750\n",
      "Epoch 100/100\n",
      "4/4 [==============================] - 1s 216ms/step - loss: 0.0190 - accuracy: 1.0000 - val_loss: 0.0425 - val_accuracy: 0.9750\n"
     ]
    },
    {
     "data": {
      "text/plain": [
       "<tensorflow.python.keras.callbacks.History at 0x27a14ff5460>"
      ]
     },
     "execution_count": 16,
     "metadata": {},
     "output_type": "execute_result"
    }
   ],
   "source": [
    "model.fit_generator(x_train , steps_per_epoch = 4, epochs = 100, validation_data = x_test, validation_steps = 2)"
   ]
  },
  {
   "cell_type": "code",
   "execution_count": 17,
   "metadata": {},
   "outputs": [],
   "source": [
    "#model.save(\"LungCancer.h5\")"
   ]
  },
  {
   "cell_type": "code",
   "execution_count": null,
   "metadata": {},
   "outputs": [],
   "source": []
  }
 ],
 "metadata": {
  "kernelspec": {
   "display_name": "Python 3",
   "language": "python",
   "name": "python3"
  },
  "language_info": {
   "codemirror_mode": {
    "name": "ipython",
    "version": 3
   },
   "file_extension": ".py",
   "mimetype": "text/x-python",
   "name": "python",
   "nbconvert_exporter": "python",
   "pygments_lexer": "ipython3",
   "version": "3.8.8"
  }
 },
 "nbformat": 4,
 "nbformat_minor": 2
}
